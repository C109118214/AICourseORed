{
 "cells": [
  {
   "cell_type": "markdown",
   "metadata": {},
   "source": [
    "# 範例 4-1"
   ]
  },
  {
   "cell_type": "code",
   "execution_count": 1,
   "metadata": {},
   "outputs": [
    {
     "name": "stdout",
     "output_type": "stream",
     "text": [
      " 請輸入您的年齡 = 19\n"
     ]
    }
   ],
   "source": [
    "Age_Drive = int(input(\" 請輸入您的年齡 = \"))"
   ]
  },
  {
   "cell_type": "code",
   "execution_count": 2,
   "metadata": {},
   "outputs": [
    {
     "name": "stdout",
     "output_type": "stream",
     "text": [
      " 可以報考汽機車駕照\n"
     ]
    }
   ],
   "source": [
    "if Age_Drive >= 18:\n",
    "    print(\" 可以報考汽機車駕照\")"
   ]
  },
  {
   "cell_type": "markdown",
   "metadata": {},
   "source": [
    "# 範例 4-2"
   ]
  },
  {
   "cell_type": "code",
   "execution_count": 1,
   "metadata": {},
   "outputs": [
    {
     "name": "stdout",
     "output_type": "stream",
     "text": [
      " 輸入舊匯率 = 30\n",
      " 請輸入新匯率 = 25\n"
     ]
    }
   ],
   "source": [
    "Old_Rate = int(input(\" 輸入舊匯率 = \"))\n",
    "New_Rate = int(input(\" 請輸入新匯率 = \"))"
   ]
  },
  {
   "cell_type": "code",
   "execution_count": 2,
   "metadata": {},
   "outputs": [
    {
     "name": "stdout",
     "output_type": "stream",
     "text": [
      "20.0\n"
     ]
    }
   ],
   "source": [
    "Change = ((Old_Rate - New_Rate) / New_Rate) * 100\n",
    "print(Change)"
   ]
  },
  {
   "cell_type": "code",
   "execution_count": 3,
   "metadata": {},
   "outputs": [
    {
     "name": "stdout",
     "output_type": "stream",
     "text": [
      " 貨幣升貶值幅度 =  20.00% 表示  升值\n"
     ]
    }
   ],
   "source": [
    "if Change > 0 :\n",
    "    Result = \" 升值\"\n",
    "print(\" 貨幣升貶值幅度 = % 4.2f%s 表示 %s\" % (Change, \"%\", Result))"
   ]
  },
  {
   "cell_type": "markdown",
   "metadata": {},
   "source": [
    "# 範例 4-3"
   ]
  },
  {
   "cell_type": "code",
   "execution_count": 1,
   "metadata": {},
   "outputs": [
    {
     "name": "stdout",
     "output_type": "stream",
     "text": [
      " 請輸入您的年齡 = 15\n"
     ]
    }
   ],
   "source": [
    "Age_Drive = int(input(\" 請輸入您的年齡 = \"))"
   ]
  },
  {
   "cell_type": "code",
   "execution_count": 2,
   "metadata": {},
   "outputs": [
    {
     "name": "stdout",
     "output_type": "stream",
     "text": [
      " 不符合報考汽機車資格\n"
     ]
    }
   ],
   "source": [
    "if Age_Drive >= 18:\n",
    "    print(\" 符合報考汽機車駕照資格\")\n",
    "else :\n",
    "    print(\" 不符合報考汽機車資格\")"
   ]
  },
  {
   "cell_type": "markdown",
   "metadata": {},
   "source": [
    "# 範例 4-4"
   ]
  },
  {
   "cell_type": "code",
   "execution_count": 1,
   "metadata": {},
   "outputs": [
    {
     "name": "stdout",
     "output_type": "stream",
     "text": [
      " 請輸入舊匯率 = 30\n",
      " 請輸入新匯率 = 35\n"
     ]
    }
   ],
   "source": [
    "Old_Rate = int(input(\" 請輸入舊匯率 = \"))\n",
    "New_Rate = int(input(\" 請輸入新匯率 = \"))"
   ]
  },
  {
   "cell_type": "code",
   "execution_count": 2,
   "metadata": {},
   "outputs": [
    {
     "name": "stdout",
     "output_type": "stream",
     "text": [
      "-14.285714285714285\n"
     ]
    }
   ],
   "source": [
    "Change = ((Old_Rate - New_Rate) / New_Rate) * 100\n",
    "print(Change)"
   ]
  },
  {
   "cell_type": "code",
   "execution_count": 3,
   "metadata": {},
   "outputs": [
    {
     "name": "stdout",
     "output_type": "stream",
     "text": [
      " 貨幣升貶值幅度 = -14.29% 表示  貶值\n"
     ]
    }
   ],
   "source": [
    "if Change > 0 :\n",
    "    Result = \" 升值\"\n",
    "else :\n",
    "    Result = \" 貶值\"\n",
    "print(\" 貨幣升貶值幅度 = % 4.2f%s 表示 %s\" % (Change, \"%\", Result))"
   ]
  },
  {
   "cell_type": "markdown",
   "metadata": {},
   "source": [
    "# 範例 4-5"
   ]
  },
  {
   "cell_type": "code",
   "execution_count": 1,
   "metadata": {},
   "outputs": [
    {
     "name": "stdout",
     "output_type": "stream",
     "text": [
      " 請輸入舊匯率 = 30\n",
      " 請輸入新匯率 = 30\n"
     ]
    }
   ],
   "source": [
    "Old_Rate = int(input(\" 請輸入舊匯率 = \"))\n",
    "New_Rate = int(input(\" 請輸入新匯率 = \"))"
   ]
  },
  {
   "cell_type": "code",
   "execution_count": 2,
   "metadata": {},
   "outputs": [
    {
     "name": "stdout",
     "output_type": "stream",
     "text": [
      "0.0\n"
     ]
    }
   ],
   "source": [
    "Change = ((Old_Rate - New_Rate) / New_Rate) * 100\n",
    "print(Change)"
   ]
  },
  {
   "cell_type": "code",
   "execution_count": 3,
   "metadata": {},
   "outputs": [
    {
     "name": "stdout",
     "output_type": "stream",
     "text": [
      " 貨幣升貶值幅度 =  0.00% 表示  平盤\n"
     ]
    }
   ],
   "source": [
    "if Change > 0 :\n",
    "    Result = \" 升值\"\n",
    "elif Change == 0 :\n",
    "    Result = \" 平盤\"\n",
    "else:\n",
    "    Result = \" 貶值\"\n",
    "print(\" 貨幣升貶值幅度 = % 4.2f%s 表示 %s\" % (Change, \"%\",Result))"
   ]
  },
  {
   "cell_type": "markdown",
   "metadata": {},
   "source": [
    "# 範例 4-6"
   ]
  },
  {
   "cell_type": "code",
   "execution_count": 1,
   "metadata": {},
   "outputs": [
    {
     "name": "stdout",
     "output_type": "stream",
     "text": [
      " 請輸入風速等級 = 10\n"
     ]
    }
   ],
   "source": [
    "Speed = int(input(\" 請輸入風速等級 = \"))"
   ]
  },
  {
   "cell_type": "code",
   "execution_count": 2,
   "metadata": {},
   "outputs": [
    {
     "name": "stdout",
     "output_type": "stream",
     "text": [
      " 輕度颱風\n"
     ]
    }
   ],
   "source": [
    "if Speed >=16:\n",
    "    print(\" 強度颱風\")\n",
    "elif Speed >= 12:\n",
    "    print(\" 中度颱風\")\n",
    "elif Speed >= 8:\n",
    "    print(\" 輕度颱風\")\n",
    "else:\n",
    "    print(\" 沒有到達輕度颱風等級\")"
   ]
  },
  {
   "cell_type": "markdown",
   "metadata": {},
   "source": [
    "# 範例 4-7"
   ]
  },
  {
   "cell_type": "code",
   "execution_count": 1,
   "metadata": {},
   "outputs": [
    {
     "name": "stdout",
     "output_type": "stream",
     "text": [
      " 請輸入體重( 公斤) = 85\n",
      " 請輸入身高( 公分) = 165\n"
     ]
    }
   ],
   "source": [
    "Weight_kg = int(input(\" 請輸入體重( 公斤) = \"))\n",
    "Height_m = float(input(\" 請輸入身高( 公分) = \")) / 100"
   ]
  },
  {
   "cell_type": "code",
   "execution_count": 2,
   "metadata": {},
   "outputs": [
    {
     "name": "stdout",
     "output_type": "stream",
     "text": [
      " 您的BMI = 31.22  中度肥胖\n"
     ]
    }
   ],
   "source": [
    "BMI = Weight_kg / (Height_m ** 2)\n",
    "if BMI < 18.5:\n",
    "    print(\" 您的BMI = %5.2f %s\" %(BMI, \" 體重過輕\"))\n",
    "elif BMI < 24:\n",
    "    print(\" 您的BMI = %5.2f %s\" %(BMI, \" 標準體重\"))\n",
    "elif BMI < 27:\n",
    "    print(\" 您的BMI = %5.2f %s\" %(BMI, \" 體重過重\"))\n",
    "elif BMI < 30:\n",
    "    print(\" 您的BMI = %5.2f %s\" %(BMI, \" 輕度肥胖\"))\n",
    "elif BMI < 35:\n",
    "    print(\" 您的BMI = %5.2f %s\" %(BMI, \" 中度肥胖\"))\n",
    "else:\n",
    "    print(\" 您的BMI = %5.2f %s\" %(BMI, \" 重度肥胖\"))"
   ]
  },
  {
   "cell_type": "markdown",
   "metadata": {},
   "source": [
    "# 範例 4-8"
   ]
  },
  {
   "cell_type": "code",
   "execution_count": 1,
   "metadata": {},
   "outputs": [
    {
     "name": "stdout",
     "output_type": "stream",
     "text": [
      " 請輸入淨年所得額: 11000000\n"
     ]
    }
   ],
   "source": [
    "C_1 = 520000 * 0.05 # 程式碼輸入數字不用加上千分位符號（,）\n",
    "C_2 = (1170000 - 520000) * 0.12\n",
    "C_3 = (2350000 - 1170000) * 0.20\n",
    "C_4 = (4400000 - 2350000) * 0.30\n",
    "C_5 = (10000000 - 4400000) * 0.40\n",
    "Income = int(input(\" 請輸入淨年所得額: \"))"
   ]
  },
  {
   "cell_type": "code",
   "execution_count": 2,
   "metadata": {},
   "outputs": [
    {
     "name": "stdout",
     "output_type": "stream",
     "text": [
      " 個人綜所稅應繳稅額 =  3645000.0\n"
     ]
    }
   ],
   "source": [
    "if Income <= 520000: # 條件1\n",
    "    Tax = Income * 0.05\n",
    "elif Income <= 1170000: # 條件2\n",
    "    Tax = C_1 + ((Income - 520000) * 0.12)\n",
    "elif Income<= 2350000: # 條件3\n",
    "    Tax = C_1 + C_2 + ((Income - 1170000) * 0.20)\n",
    "elif Income<=4400000: # 條件4\n",
    "    Tax = C_1 + C_2 + C_3 + ((Income - 2350000) * 0.30)\n",
    "elif Income<=10000000: # 條件5\n",
    "    Tax = C_1 + C_2 + C_3 + C_4 + ((Income - 4400000) * 0.40)\n",
    "else: # 條件6\n",
    "    Tax = C_1 + C_2 + C_3 + C_4 + C_5 + ((Income - 10000000) * 0.45)\n",
    "print(\" 個人綜所稅應繳稅額 = \", Tax)"
   ]
  },
  {
   "cell_type": "markdown",
   "metadata": {},
   "source": [
    "# 範例 4-9"
   ]
  },
  {
   "cell_type": "code",
   "execution_count": 1,
   "metadata": {},
   "outputs": [
    {
     "name": "stdout",
     "output_type": "stream",
     "text": [
      " 請輸入西元年份 = 2100\n"
     ]
    }
   ],
   "source": [
    "Year = int (input(\" 請輸入西元年份 = \"))"
   ]
  },
  {
   "cell_type": "code",
   "execution_count": 2,
   "metadata": {},
   "outputs": [
    {
     "name": "stdout",
     "output_type": "stream",
     "text": [
      "2100 年為 平年\n"
     ]
    }
   ],
   "source": [
    "if (Year % 400) == 0: # 條件1\n",
    "    print(\"%d 為%s\" % (Year, \" 閏年\"))\n",
    "else:\n",
    "    if ((Year % 4) == 0) and ((Year % 100) != 0): # 條件2\n",
    "        print(\"%d 為%s\" % (Year, \" 閏年\"))\n",
    "    else:\n",
    "        print(\"%d 年為%s\" % (Year, \" 平年\"))"
   ]
  },
  {
   "cell_type": "markdown",
   "metadata": {},
   "source": [
    "# 範例 4-10"
   ]
  },
  {
   "cell_type": "code",
   "execution_count": 1,
   "metadata": {},
   "outputs": [
    {
     "name": "stdout",
     "output_type": "stream",
     "text": [
      " 邊長2, 2, 3  此為銳角三角形\n"
     ]
    }
   ],
   "source": [
    "x = 2\n",
    "y = 2\n",
    "z = 3\n",
    "if (x + y) <= z:\n",
    "    print(\" 邊長%d, %d, %d %s\" % (x, y, z, \" 無法形成三角形\"))\n",
    "else:\n",
    "    if (x ** 2 + y ** 2) == z ** 2:\n",
    "        print(\" 邊長%d, %d, %d %s\" % (x, y, z, \" 此為直角三角形\"))\n",
    "    if (x ** 2 + y ** 2) < z ** 2:\n",
    "        print(\" 邊長%d, %d, %d %s\" % (x, y, z, \" 此為銳角三角形\"))\n",
    "    if (x ** 2 + y ** 2) > z ** 2:\n",
    "        print(\" 邊長%d, %d, %d %s\" % (x, y, z, \" 此為鈍角三角形\"))"
   ]
  },
  {
   "cell_type": "code",
   "execution_count": null,
   "metadata": {},
   "outputs": [],
   "source": []
  }
 ],
 "metadata": {
  "kernelspec": {
   "display_name": "Python 3",
   "language": "python",
   "name": "python3"
  },
  "language_info": {
   "codemirror_mode": {
    "name": "ipython",
    "version": 3
   },
   "file_extension": ".py",
   "mimetype": "text/x-python",
   "name": "python",
   "nbconvert_exporter": "python",
   "pygments_lexer": "ipython3",
   "version": "3.7.2"
  }
 },
 "nbformat": 4,
 "nbformat_minor": 2
}
